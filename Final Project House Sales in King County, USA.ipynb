{
    "cells": [
        {
            "cell_type": "markdown",
            "metadata": {},
            "source": " <a href=\"https://www.bigdatauniversity.com\"><img src = \"https://ibm.box.com/shared/static/ugcqz6ohbvff804xp84y4kqnvvk3bq1g.png\" width = 300, align = \"center\"></a>\n\n<h1 align=center><font size = 5>Data Analysis with Python</font></h1>"
        },
        {
            "cell_type": "markdown",
            "metadata": {},
            "source": "# House Sales in King County, USA"
        },
        {
            "cell_type": "markdown",
            "metadata": {},
            "source": "This dataset contains house sale prices for King County, which includes Seattle. It includes homes sold between May 2014 and May 2015."
        },
        {
            "cell_type": "markdown",
            "metadata": {},
            "source": "<b>id</b> : A notation for a house\n\n<b> date</b>: Date house was sold\n\n\n<b>price</b>: Price is prediction target\n\n\n<b>bedrooms</b>: Number of bedrooms\n\n\n<b>bathrooms</b>: Number of bathrooms\n\n<b>sqft_living</b>: Square footage of the home\n\n<b>sqft_lot</b>: Square footage of the lot\n\n\n<b>floors</b> :Total floors (levels) in house\n\n\n<b>waterfront</b> :House which has a view to a waterfront\n\n\n<b>view</b>: Has been viewed\n\n\n<b>condition</b> :How good the condition is overall\n\n<b>grade</b>: overall grade given to the housing unit, based on King County grading system\n\n\n<b>sqft_above</b> : Square footage of house apart from basement\n\n\n<b>sqft_basement</b>: Square footage of the basement\n\n<b>yr_built</b> : Built Year\n\n\n<b>yr_renovated</b> : Year when house was renovated\n\n<b>zipcode</b>: Zip code\n\n\n<b>lat</b>: Latitude coordinate\n\n<b>long</b>: Longitude coordinate\n\n<b>sqft_living15</b> : Living room area in 2015(implies-- some renovations) This might or might not have affected the lotsize area\n\n\n<b>sqft_lot15</b> : LotSize area in 2015(implies-- some renovations)"
        },
        {
            "cell_type": "markdown",
            "metadata": {},
            "source": "You will require the following libraries: "
        },
        {
            "cell_type": "code",
            "execution_count": 62,
            "metadata": {},
            "outputs": [],
            "source": "import pandas as pd\nimport matplotlib.pyplot as plt\nimport numpy as np\nimport seaborn as sns\nfrom sklearn.pipeline import Pipeline\nfrom sklearn.preprocessing import StandardScaler,PolynomialFeatures\nfrom sklearn.linear_model import LinearRegression\n%matplotlib inline"
        },
        {
            "cell_type": "markdown",
            "metadata": {},
            "source": "# Module 1: Importing Data Sets "
        },
        {
            "cell_type": "markdown",
            "metadata": {},
            "source": "\nLoad the csv:  "
        },
        {
            "cell_type": "code",
            "execution_count": 63,
            "metadata": {
                "jupyter": {
                    "outputs_hidden": false
                }
            },
            "outputs": [],
            "source": "file_name='https://s3-api.us-geo.objectstorage.softlayer.net/cf-courses-data/CognitiveClass/DA0101EN/coursera/project/kc_house_data_NaN.csv'\ndf=pd.read_csv(file_name)"
        },
        {
            "cell_type": "markdown",
            "metadata": {},
            "source": "\nWe use the method <code>head</code> to display the first 5 columns of the dataframe."
        },
        {
            "cell_type": "code",
            "execution_count": 64,
            "metadata": {},
            "outputs": [
                {
                    "data": {
                        "text/html": "<div>\n<style scoped>\n    .dataframe tbody tr th:only-of-type {\n        vertical-align: middle;\n    }\n\n    .dataframe tbody tr th {\n        vertical-align: top;\n    }\n\n    .dataframe thead th {\n        text-align: right;\n    }\n</style>\n<table border=\"1\" class=\"dataframe\">\n  <thead>\n    <tr style=\"text-align: right;\">\n      <th></th>\n      <th>Unnamed: 0</th>\n      <th>id</th>\n      <th>date</th>\n      <th>price</th>\n      <th>bedrooms</th>\n      <th>bathrooms</th>\n      <th>sqft_living</th>\n      <th>sqft_lot</th>\n      <th>floors</th>\n      <th>waterfront</th>\n      <th>...</th>\n      <th>grade</th>\n      <th>sqft_above</th>\n      <th>sqft_basement</th>\n      <th>yr_built</th>\n      <th>yr_renovated</th>\n      <th>zipcode</th>\n      <th>lat</th>\n      <th>long</th>\n      <th>sqft_living15</th>\n      <th>sqft_lot15</th>\n    </tr>\n  </thead>\n  <tbody>\n    <tr>\n      <th>0</th>\n      <td>0</td>\n      <td>7129300520</td>\n      <td>20141013T000000</td>\n      <td>221900.0</td>\n      <td>3.0</td>\n      <td>1.00</td>\n      <td>1180</td>\n      <td>5650</td>\n      <td>1.0</td>\n      <td>0</td>\n      <td>...</td>\n      <td>7</td>\n      <td>1180</td>\n      <td>0</td>\n      <td>1955</td>\n      <td>0</td>\n      <td>98178</td>\n      <td>47.5112</td>\n      <td>-122.257</td>\n      <td>1340</td>\n      <td>5650</td>\n    </tr>\n    <tr>\n      <th>1</th>\n      <td>1</td>\n      <td>6414100192</td>\n      <td>20141209T000000</td>\n      <td>538000.0</td>\n      <td>3.0</td>\n      <td>2.25</td>\n      <td>2570</td>\n      <td>7242</td>\n      <td>2.0</td>\n      <td>0</td>\n      <td>...</td>\n      <td>7</td>\n      <td>2170</td>\n      <td>400</td>\n      <td>1951</td>\n      <td>1991</td>\n      <td>98125</td>\n      <td>47.7210</td>\n      <td>-122.319</td>\n      <td>1690</td>\n      <td>7639</td>\n    </tr>\n    <tr>\n      <th>2</th>\n      <td>2</td>\n      <td>5631500400</td>\n      <td>20150225T000000</td>\n      <td>180000.0</td>\n      <td>2.0</td>\n      <td>1.00</td>\n      <td>770</td>\n      <td>10000</td>\n      <td>1.0</td>\n      <td>0</td>\n      <td>...</td>\n      <td>6</td>\n      <td>770</td>\n      <td>0</td>\n      <td>1933</td>\n      <td>0</td>\n      <td>98028</td>\n      <td>47.7379</td>\n      <td>-122.233</td>\n      <td>2720</td>\n      <td>8062</td>\n    </tr>\n    <tr>\n      <th>3</th>\n      <td>3</td>\n      <td>2487200875</td>\n      <td>20141209T000000</td>\n      <td>604000.0</td>\n      <td>4.0</td>\n      <td>3.00</td>\n      <td>1960</td>\n      <td>5000</td>\n      <td>1.0</td>\n      <td>0</td>\n      <td>...</td>\n      <td>7</td>\n      <td>1050</td>\n      <td>910</td>\n      <td>1965</td>\n      <td>0</td>\n      <td>98136</td>\n      <td>47.5208</td>\n      <td>-122.393</td>\n      <td>1360</td>\n      <td>5000</td>\n    </tr>\n    <tr>\n      <th>4</th>\n      <td>4</td>\n      <td>1954400510</td>\n      <td>20150218T000000</td>\n      <td>510000.0</td>\n      <td>3.0</td>\n      <td>2.00</td>\n      <td>1680</td>\n      <td>8080</td>\n      <td>1.0</td>\n      <td>0</td>\n      <td>...</td>\n      <td>8</td>\n      <td>1680</td>\n      <td>0</td>\n      <td>1987</td>\n      <td>0</td>\n      <td>98074</td>\n      <td>47.6168</td>\n      <td>-122.045</td>\n      <td>1800</td>\n      <td>7503</td>\n    </tr>\n  </tbody>\n</table>\n<p>5 rows \u00d7 22 columns</p>\n</div>",
                        "text/plain": "   Unnamed: 0          id             date     price  bedrooms  bathrooms  \\\n0           0  7129300520  20141013T000000  221900.0       3.0       1.00   \n1           1  6414100192  20141209T000000  538000.0       3.0       2.25   \n2           2  5631500400  20150225T000000  180000.0       2.0       1.00   \n3           3  2487200875  20141209T000000  604000.0       4.0       3.00   \n4           4  1954400510  20150218T000000  510000.0       3.0       2.00   \n\n   sqft_living  sqft_lot  floors  waterfront  ...  grade  sqft_above  \\\n0         1180      5650     1.0           0  ...      7        1180   \n1         2570      7242     2.0           0  ...      7        2170   \n2          770     10000     1.0           0  ...      6         770   \n3         1960      5000     1.0           0  ...      7        1050   \n4         1680      8080     1.0           0  ...      8        1680   \n\n   sqft_basement  yr_built  yr_renovated  zipcode      lat     long  \\\n0              0      1955             0    98178  47.5112 -122.257   \n1            400      1951          1991    98125  47.7210 -122.319   \n2              0      1933             0    98028  47.7379 -122.233   \n3            910      1965             0    98136  47.5208 -122.393   \n4              0      1987             0    98074  47.6168 -122.045   \n\n   sqft_living15  sqft_lot15  \n0           1340        5650  \n1           1690        7639  \n2           2720        8062  \n3           1360        5000  \n4           1800        7503  \n\n[5 rows x 22 columns]"
                    },
                    "execution_count": 64,
                    "metadata": {},
                    "output_type": "execute_result"
                }
            ],
            "source": "df.head()\n"
        },
        {
            "cell_type": "code",
            "execution_count": 65,
            "metadata": {},
            "outputs": [
                {
                    "data": {
                        "text/html": "<div>\n<style scoped>\n    .dataframe tbody tr th:only-of-type {\n        vertical-align: middle;\n    }\n\n    .dataframe tbody tr th {\n        vertical-align: top;\n    }\n\n    .dataframe thead th {\n        text-align: right;\n    }\n</style>\n<table border=\"1\" class=\"dataframe\">\n  <thead>\n    <tr style=\"text-align: right;\">\n      <th></th>\n      <th>Unnamed: 0</th>\n      <th>id</th>\n      <th>date</th>\n      <th>price</th>\n      <th>bedrooms</th>\n      <th>bathrooms</th>\n      <th>sqft_living</th>\n      <th>sqft_lot</th>\n      <th>floors</th>\n      <th>waterfront</th>\n      <th>...</th>\n      <th>grade</th>\n      <th>sqft_above</th>\n      <th>sqft_basement</th>\n      <th>yr_built</th>\n      <th>yr_renovated</th>\n      <th>zipcode</th>\n      <th>lat</th>\n      <th>long</th>\n      <th>sqft_living15</th>\n      <th>sqft_lot15</th>\n    </tr>\n  </thead>\n  <tbody>\n    <tr>\n      <th>count</th>\n      <td>21613.00000</td>\n      <td>2.161300e+04</td>\n      <td>21613</td>\n      <td>2.161300e+04</td>\n      <td>21600.000000</td>\n      <td>21603.000000</td>\n      <td>21613.000000</td>\n      <td>2.161300e+04</td>\n      <td>21613.000000</td>\n      <td>21613.000000</td>\n      <td>...</td>\n      <td>21613.000000</td>\n      <td>21613.000000</td>\n      <td>21613.000000</td>\n      <td>21613.000000</td>\n      <td>21613.000000</td>\n      <td>21613.000000</td>\n      <td>21613.000000</td>\n      <td>21613.000000</td>\n      <td>21613.000000</td>\n      <td>21613.000000</td>\n    </tr>\n    <tr>\n      <th>unique</th>\n      <td>NaN</td>\n      <td>NaN</td>\n      <td>372</td>\n      <td>NaN</td>\n      <td>NaN</td>\n      <td>NaN</td>\n      <td>NaN</td>\n      <td>NaN</td>\n      <td>NaN</td>\n      <td>NaN</td>\n      <td>...</td>\n      <td>NaN</td>\n      <td>NaN</td>\n      <td>NaN</td>\n      <td>NaN</td>\n      <td>NaN</td>\n      <td>NaN</td>\n      <td>NaN</td>\n      <td>NaN</td>\n      <td>NaN</td>\n      <td>NaN</td>\n    </tr>\n    <tr>\n      <th>top</th>\n      <td>NaN</td>\n      <td>NaN</td>\n      <td>20140623T000000</td>\n      <td>NaN</td>\n      <td>NaN</td>\n      <td>NaN</td>\n      <td>NaN</td>\n      <td>NaN</td>\n      <td>NaN</td>\n      <td>NaN</td>\n      <td>...</td>\n      <td>NaN</td>\n      <td>NaN</td>\n      <td>NaN</td>\n      <td>NaN</td>\n      <td>NaN</td>\n      <td>NaN</td>\n      <td>NaN</td>\n      <td>NaN</td>\n      <td>NaN</td>\n      <td>NaN</td>\n    </tr>\n    <tr>\n      <th>freq</th>\n      <td>NaN</td>\n      <td>NaN</td>\n      <td>142</td>\n      <td>NaN</td>\n      <td>NaN</td>\n      <td>NaN</td>\n      <td>NaN</td>\n      <td>NaN</td>\n      <td>NaN</td>\n      <td>NaN</td>\n      <td>...</td>\n      <td>NaN</td>\n      <td>NaN</td>\n      <td>NaN</td>\n      <td>NaN</td>\n      <td>NaN</td>\n      <td>NaN</td>\n      <td>NaN</td>\n      <td>NaN</td>\n      <td>NaN</td>\n      <td>NaN</td>\n    </tr>\n    <tr>\n      <th>mean</th>\n      <td>10806.00000</td>\n      <td>4.580302e+09</td>\n      <td>NaN</td>\n      <td>5.400881e+05</td>\n      <td>3.372870</td>\n      <td>2.115736</td>\n      <td>2079.899736</td>\n      <td>1.510697e+04</td>\n      <td>1.494309</td>\n      <td>0.007542</td>\n      <td>...</td>\n      <td>7.656873</td>\n      <td>1788.390691</td>\n      <td>291.509045</td>\n      <td>1971.005136</td>\n      <td>84.402258</td>\n      <td>98077.939805</td>\n      <td>47.560053</td>\n      <td>-122.213896</td>\n      <td>1986.552492</td>\n      <td>12768.455652</td>\n    </tr>\n    <tr>\n      <th>std</th>\n      <td>6239.28002</td>\n      <td>2.876566e+09</td>\n      <td>NaN</td>\n      <td>3.671272e+05</td>\n      <td>0.926657</td>\n      <td>0.768996</td>\n      <td>918.440897</td>\n      <td>4.142051e+04</td>\n      <td>0.539989</td>\n      <td>0.086517</td>\n      <td>...</td>\n      <td>1.175459</td>\n      <td>828.090978</td>\n      <td>442.575043</td>\n      <td>29.373411</td>\n      <td>401.679240</td>\n      <td>53.505026</td>\n      <td>0.138564</td>\n      <td>0.140828</td>\n      <td>685.391304</td>\n      <td>27304.179631</td>\n    </tr>\n    <tr>\n      <th>min</th>\n      <td>0.00000</td>\n      <td>1.000102e+06</td>\n      <td>NaN</td>\n      <td>7.500000e+04</td>\n      <td>1.000000</td>\n      <td>0.500000</td>\n      <td>290.000000</td>\n      <td>5.200000e+02</td>\n      <td>1.000000</td>\n      <td>0.000000</td>\n      <td>...</td>\n      <td>1.000000</td>\n      <td>290.000000</td>\n      <td>0.000000</td>\n      <td>1900.000000</td>\n      <td>0.000000</td>\n      <td>98001.000000</td>\n      <td>47.155900</td>\n      <td>-122.519000</td>\n      <td>399.000000</td>\n      <td>651.000000</td>\n    </tr>\n    <tr>\n      <th>25%</th>\n      <td>5403.00000</td>\n      <td>2.123049e+09</td>\n      <td>NaN</td>\n      <td>3.219500e+05</td>\n      <td>3.000000</td>\n      <td>1.750000</td>\n      <td>1427.000000</td>\n      <td>5.040000e+03</td>\n      <td>1.000000</td>\n      <td>0.000000</td>\n      <td>...</td>\n      <td>7.000000</td>\n      <td>1190.000000</td>\n      <td>0.000000</td>\n      <td>1951.000000</td>\n      <td>0.000000</td>\n      <td>98033.000000</td>\n      <td>47.471000</td>\n      <td>-122.328000</td>\n      <td>1490.000000</td>\n      <td>5100.000000</td>\n    </tr>\n    <tr>\n      <th>50%</th>\n      <td>10806.00000</td>\n      <td>3.904930e+09</td>\n      <td>NaN</td>\n      <td>4.500000e+05</td>\n      <td>3.000000</td>\n      <td>2.250000</td>\n      <td>1910.000000</td>\n      <td>7.618000e+03</td>\n      <td>1.500000</td>\n      <td>0.000000</td>\n      <td>...</td>\n      <td>7.000000</td>\n      <td>1560.000000</td>\n      <td>0.000000</td>\n      <td>1975.000000</td>\n      <td>0.000000</td>\n      <td>98065.000000</td>\n      <td>47.571800</td>\n      <td>-122.230000</td>\n      <td>1840.000000</td>\n      <td>7620.000000</td>\n    </tr>\n    <tr>\n      <th>75%</th>\n      <td>16209.00000</td>\n      <td>7.308900e+09</td>\n      <td>NaN</td>\n      <td>6.450000e+05</td>\n      <td>4.000000</td>\n      <td>2.500000</td>\n      <td>2550.000000</td>\n      <td>1.068800e+04</td>\n      <td>2.000000</td>\n      <td>0.000000</td>\n      <td>...</td>\n      <td>8.000000</td>\n      <td>2210.000000</td>\n      <td>560.000000</td>\n      <td>1997.000000</td>\n      <td>0.000000</td>\n      <td>98118.000000</td>\n      <td>47.678000</td>\n      <td>-122.125000</td>\n      <td>2360.000000</td>\n      <td>10083.000000</td>\n    </tr>\n    <tr>\n      <th>max</th>\n      <td>21612.00000</td>\n      <td>9.900000e+09</td>\n      <td>NaN</td>\n      <td>7.700000e+06</td>\n      <td>33.000000</td>\n      <td>8.000000</td>\n      <td>13540.000000</td>\n      <td>1.651359e+06</td>\n      <td>3.500000</td>\n      <td>1.000000</td>\n      <td>...</td>\n      <td>13.000000</td>\n      <td>9410.000000</td>\n      <td>4820.000000</td>\n      <td>2015.000000</td>\n      <td>2015.000000</td>\n      <td>98199.000000</td>\n      <td>47.777600</td>\n      <td>-121.315000</td>\n      <td>6210.000000</td>\n      <td>871200.000000</td>\n    </tr>\n  </tbody>\n</table>\n<p>11 rows \u00d7 22 columns</p>\n</div>",
                        "text/plain": "         Unnamed: 0            id             date         price  \\\ncount   21613.00000  2.161300e+04            21613  2.161300e+04   \nunique          NaN           NaN              372           NaN   \ntop             NaN           NaN  20140623T000000           NaN   \nfreq            NaN           NaN              142           NaN   \nmean    10806.00000  4.580302e+09              NaN  5.400881e+05   \nstd      6239.28002  2.876566e+09              NaN  3.671272e+05   \nmin         0.00000  1.000102e+06              NaN  7.500000e+04   \n25%      5403.00000  2.123049e+09              NaN  3.219500e+05   \n50%     10806.00000  3.904930e+09              NaN  4.500000e+05   \n75%     16209.00000  7.308900e+09              NaN  6.450000e+05   \nmax     21612.00000  9.900000e+09              NaN  7.700000e+06   \n\n            bedrooms     bathrooms   sqft_living      sqft_lot        floors  \\\ncount   21600.000000  21603.000000  21613.000000  2.161300e+04  21613.000000   \nunique           NaN           NaN           NaN           NaN           NaN   \ntop              NaN           NaN           NaN           NaN           NaN   \nfreq             NaN           NaN           NaN           NaN           NaN   \nmean        3.372870      2.115736   2079.899736  1.510697e+04      1.494309   \nstd         0.926657      0.768996    918.440897  4.142051e+04      0.539989   \nmin         1.000000      0.500000    290.000000  5.200000e+02      1.000000   \n25%         3.000000      1.750000   1427.000000  5.040000e+03      1.000000   \n50%         3.000000      2.250000   1910.000000  7.618000e+03      1.500000   \n75%         4.000000      2.500000   2550.000000  1.068800e+04      2.000000   \nmax        33.000000      8.000000  13540.000000  1.651359e+06      3.500000   \n\n          waterfront  ...         grade    sqft_above  sqft_basement  \\\ncount   21613.000000  ...  21613.000000  21613.000000   21613.000000   \nunique           NaN  ...           NaN           NaN            NaN   \ntop              NaN  ...           NaN           NaN            NaN   \nfreq             NaN  ...           NaN           NaN            NaN   \nmean        0.007542  ...      7.656873   1788.390691     291.509045   \nstd         0.086517  ...      1.175459    828.090978     442.575043   \nmin         0.000000  ...      1.000000    290.000000       0.000000   \n25%         0.000000  ...      7.000000   1190.000000       0.000000   \n50%         0.000000  ...      7.000000   1560.000000       0.000000   \n75%         0.000000  ...      8.000000   2210.000000     560.000000   \nmax         1.000000  ...     13.000000   9410.000000    4820.000000   \n\n            yr_built  yr_renovated       zipcode           lat          long  \\\ncount   21613.000000  21613.000000  21613.000000  21613.000000  21613.000000   \nunique           NaN           NaN           NaN           NaN           NaN   \ntop              NaN           NaN           NaN           NaN           NaN   \nfreq             NaN           NaN           NaN           NaN           NaN   \nmean     1971.005136     84.402258  98077.939805     47.560053   -122.213896   \nstd        29.373411    401.679240     53.505026      0.138564      0.140828   \nmin      1900.000000      0.000000  98001.000000     47.155900   -122.519000   \n25%      1951.000000      0.000000  98033.000000     47.471000   -122.328000   \n50%      1975.000000      0.000000  98065.000000     47.571800   -122.230000   \n75%      1997.000000      0.000000  98118.000000     47.678000   -122.125000   \nmax      2015.000000   2015.000000  98199.000000     47.777600   -121.315000   \n\n        sqft_living15     sqft_lot15  \ncount    21613.000000   21613.000000  \nunique            NaN            NaN  \ntop               NaN            NaN  \nfreq              NaN            NaN  \nmean      1986.552492   12768.455652  \nstd        685.391304   27304.179631  \nmin        399.000000     651.000000  \n25%       1490.000000    5100.000000  \n50%       1840.000000    7620.000000  \n75%       2360.000000   10083.000000  \nmax       6210.000000  871200.000000  \n\n[11 rows x 22 columns]"
                    },
                    "execution_count": 65,
                    "metadata": {},
                    "output_type": "execute_result"
                }
            ],
            "source": "df.describe(include='all')"
        },
        {
            "cell_type": "code",
            "execution_count": 5,
            "metadata": {},
            "outputs": [
                {
                    "data": {
                        "text/html": "<div>\n<style scoped>\n    .dataframe tbody tr th:only-of-type {\n        vertical-align: middle;\n    }\n\n    .dataframe tbody tr th {\n        vertical-align: top;\n    }\n\n    .dataframe thead th {\n        text-align: right;\n    }\n</style>\n<table border=\"1\" class=\"dataframe\">\n  <thead>\n    <tr style=\"text-align: right;\">\n      <th></th>\n      <th>Unnamed: 0</th>\n      <th>id</th>\n      <th>price</th>\n      <th>bedrooms</th>\n      <th>bathrooms</th>\n      <th>sqft_living</th>\n      <th>sqft_lot</th>\n      <th>floors</th>\n      <th>waterfront</th>\n      <th>view</th>\n      <th>...</th>\n      <th>grade</th>\n      <th>sqft_above</th>\n      <th>sqft_basement</th>\n      <th>yr_built</th>\n      <th>yr_renovated</th>\n      <th>zipcode</th>\n      <th>lat</th>\n      <th>long</th>\n      <th>sqft_living15</th>\n      <th>sqft_lot15</th>\n    </tr>\n  </thead>\n  <tbody>\n    <tr>\n      <th>Unnamed: 0</th>\n      <td>1.000000</td>\n      <td>0.006718</td>\n      <td>0.027372</td>\n      <td>0.010308</td>\n      <td>0.107013</td>\n      <td>0.044717</td>\n      <td>-0.026877</td>\n      <td>0.179138</td>\n      <td>-0.007611</td>\n      <td>-0.013751</td>\n      <td>...</td>\n      <td>0.082050</td>\n      <td>0.071958</td>\n      <td>-0.041841</td>\n      <td>0.199549</td>\n      <td>-0.025601</td>\n      <td>-0.002199</td>\n      <td>0.000701</td>\n      <td>0.008649</td>\n      <td>0.026647</td>\n      <td>-0.029827</td>\n    </tr>\n    <tr>\n      <th>id</th>\n      <td>0.006718</td>\n      <td>1.000000</td>\n      <td>-0.016762</td>\n      <td>0.001332</td>\n      <td>0.005234</td>\n      <td>-0.012258</td>\n      <td>-0.132109</td>\n      <td>0.018525</td>\n      <td>-0.002721</td>\n      <td>0.011592</td>\n      <td>...</td>\n      <td>0.008130</td>\n      <td>-0.010842</td>\n      <td>-0.005151</td>\n      <td>0.021380</td>\n      <td>-0.016907</td>\n      <td>-0.008224</td>\n      <td>-0.001891</td>\n      <td>0.020799</td>\n      <td>-0.002901</td>\n      <td>-0.138798</td>\n    </tr>\n    <tr>\n      <th>price</th>\n      <td>0.027372</td>\n      <td>-0.016762</td>\n      <td>1.000000</td>\n      <td>0.308890</td>\n      <td>0.525885</td>\n      <td>0.702035</td>\n      <td>0.089661</td>\n      <td>0.256794</td>\n      <td>0.266369</td>\n      <td>0.397293</td>\n      <td>...</td>\n      <td>0.667434</td>\n      <td>0.605567</td>\n      <td>0.323816</td>\n      <td>0.054012</td>\n      <td>0.126434</td>\n      <td>-0.053203</td>\n      <td>0.307003</td>\n      <td>0.021626</td>\n      <td>0.585379</td>\n      <td>0.082447</td>\n    </tr>\n    <tr>\n      <th>bedrooms</th>\n      <td>0.010308</td>\n      <td>0.001332</td>\n      <td>0.308890</td>\n      <td>1.000000</td>\n      <td>0.514508</td>\n      <td>0.578405</td>\n      <td>0.032325</td>\n      <td>0.178178</td>\n      <td>-0.006800</td>\n      <td>0.080079</td>\n      <td>...</td>\n      <td>0.357145</td>\n      <td>0.479593</td>\n      <td>0.302896</td>\n      <td>0.155792</td>\n      <td>0.018456</td>\n      <td>-0.153764</td>\n      <td>-0.009739</td>\n      <td>0.131066</td>\n      <td>0.393560</td>\n      <td>0.030473</td>\n    </tr>\n    <tr>\n      <th>bathrooms</th>\n      <td>0.107013</td>\n      <td>0.005234</td>\n      <td>0.525885</td>\n      <td>0.514508</td>\n      <td>1.000000</td>\n      <td>0.755789</td>\n      <td>0.087932</td>\n      <td>0.502462</td>\n      <td>0.063744</td>\n      <td>0.188390</td>\n      <td>...</td>\n      <td>0.665887</td>\n      <td>0.686735</td>\n      <td>0.283456</td>\n      <td>0.507013</td>\n      <td>0.050561</td>\n      <td>-0.204852</td>\n      <td>0.024253</td>\n      <td>0.225103</td>\n      <td>0.569787</td>\n      <td>0.087544</td>\n    </tr>\n    <tr>\n      <th>sqft_living</th>\n      <td>0.044717</td>\n      <td>-0.012258</td>\n      <td>0.702035</td>\n      <td>0.578405</td>\n      <td>0.755789</td>\n      <td>1.000000</td>\n      <td>0.172826</td>\n      <td>0.353949</td>\n      <td>0.103818</td>\n      <td>0.284611</td>\n      <td>...</td>\n      <td>0.762704</td>\n      <td>0.876597</td>\n      <td>0.435043</td>\n      <td>0.318049</td>\n      <td>0.055363</td>\n      <td>-0.199430</td>\n      <td>0.052529</td>\n      <td>0.240223</td>\n      <td>0.756420</td>\n      <td>0.183286</td>\n    </tr>\n    <tr>\n      <th>sqft_lot</th>\n      <td>-0.026877</td>\n      <td>-0.132109</td>\n      <td>0.089661</td>\n      <td>0.032325</td>\n      <td>0.087932</td>\n      <td>0.172826</td>\n      <td>1.000000</td>\n      <td>-0.005201</td>\n      <td>0.021604</td>\n      <td>0.074710</td>\n      <td>...</td>\n      <td>0.113621</td>\n      <td>0.183512</td>\n      <td>0.015286</td>\n      <td>0.053080</td>\n      <td>0.007644</td>\n      <td>-0.129574</td>\n      <td>-0.085683</td>\n      <td>0.229521</td>\n      <td>0.144608</td>\n      <td>0.718557</td>\n    </tr>\n    <tr>\n      <th>floors</th>\n      <td>0.179138</td>\n      <td>0.018525</td>\n      <td>0.256794</td>\n      <td>0.178178</td>\n      <td>0.502462</td>\n      <td>0.353949</td>\n      <td>-0.005201</td>\n      <td>1.000000</td>\n      <td>0.023698</td>\n      <td>0.029444</td>\n      <td>...</td>\n      <td>0.458183</td>\n      <td>0.523885</td>\n      <td>-0.245705</td>\n      <td>0.489319</td>\n      <td>0.006338</td>\n      <td>-0.059121</td>\n      <td>0.049614</td>\n      <td>0.125419</td>\n      <td>0.279885</td>\n      <td>-0.011269</td>\n    </tr>\n    <tr>\n      <th>waterfront</th>\n      <td>-0.007611</td>\n      <td>-0.002721</td>\n      <td>0.266369</td>\n      <td>-0.006800</td>\n      <td>0.063744</td>\n      <td>0.103818</td>\n      <td>0.021604</td>\n      <td>0.023698</td>\n      <td>1.000000</td>\n      <td>0.401857</td>\n      <td>...</td>\n      <td>0.082775</td>\n      <td>0.072075</td>\n      <td>0.080588</td>\n      <td>-0.026161</td>\n      <td>0.092885</td>\n      <td>0.030285</td>\n      <td>-0.014274</td>\n      <td>-0.041910</td>\n      <td>0.086463</td>\n      <td>0.030703</td>\n    </tr>\n    <tr>\n      <th>view</th>\n      <td>-0.013751</td>\n      <td>0.011592</td>\n      <td>0.397293</td>\n      <td>0.080079</td>\n      <td>0.188390</td>\n      <td>0.284611</td>\n      <td>0.074710</td>\n      <td>0.029444</td>\n      <td>0.401857</td>\n      <td>1.000000</td>\n      <td>...</td>\n      <td>0.251321</td>\n      <td>0.167649</td>\n      <td>0.276947</td>\n      <td>-0.053440</td>\n      <td>0.103917</td>\n      <td>0.084827</td>\n      <td>0.006157</td>\n      <td>-0.078400</td>\n      <td>0.280439</td>\n      <td>0.072575</td>\n    </tr>\n    <tr>\n      <th>condition</th>\n      <td>-0.095419</td>\n      <td>-0.023783</td>\n      <td>0.036362</td>\n      <td>0.026704</td>\n      <td>-0.126263</td>\n      <td>-0.058753</td>\n      <td>-0.008958</td>\n      <td>-0.263768</td>\n      <td>0.016653</td>\n      <td>0.045990</td>\n      <td>...</td>\n      <td>-0.144674</td>\n      <td>-0.158214</td>\n      <td>0.174105</td>\n      <td>-0.361417</td>\n      <td>-0.060618</td>\n      <td>0.003026</td>\n      <td>-0.014941</td>\n      <td>-0.106500</td>\n      <td>-0.092824</td>\n      <td>-0.003406</td>\n    </tr>\n    <tr>\n      <th>grade</th>\n      <td>0.082050</td>\n      <td>0.008130</td>\n      <td>0.667434</td>\n      <td>0.357145</td>\n      <td>0.665887</td>\n      <td>0.762704</td>\n      <td>0.113621</td>\n      <td>0.458183</td>\n      <td>0.082775</td>\n      <td>0.251321</td>\n      <td>...</td>\n      <td>1.000000</td>\n      <td>0.755923</td>\n      <td>0.168392</td>\n      <td>0.446963</td>\n      <td>0.014414</td>\n      <td>-0.184862</td>\n      <td>0.114084</td>\n      <td>0.198372</td>\n      <td>0.713202</td>\n      <td>0.119248</td>\n    </tr>\n    <tr>\n      <th>sqft_above</th>\n      <td>0.071958</td>\n      <td>-0.010842</td>\n      <td>0.605567</td>\n      <td>0.479593</td>\n      <td>0.686735</td>\n      <td>0.876597</td>\n      <td>0.183512</td>\n      <td>0.523885</td>\n      <td>0.072075</td>\n      <td>0.167649</td>\n      <td>...</td>\n      <td>0.755923</td>\n      <td>1.000000</td>\n      <td>-0.051943</td>\n      <td>0.423898</td>\n      <td>0.023285</td>\n      <td>-0.261190</td>\n      <td>-0.000816</td>\n      <td>0.343803</td>\n      <td>0.731870</td>\n      <td>0.194050</td>\n    </tr>\n    <tr>\n      <th>sqft_basement</th>\n      <td>-0.041841</td>\n      <td>-0.005151</td>\n      <td>0.323816</td>\n      <td>0.302896</td>\n      <td>0.283456</td>\n      <td>0.435043</td>\n      <td>0.015286</td>\n      <td>-0.245705</td>\n      <td>0.080588</td>\n      <td>0.276947</td>\n      <td>...</td>\n      <td>0.168392</td>\n      <td>-0.051943</td>\n      <td>1.000000</td>\n      <td>-0.133124</td>\n      <td>0.071323</td>\n      <td>0.074845</td>\n      <td>0.110538</td>\n      <td>-0.144765</td>\n      <td>0.200355</td>\n      <td>0.017276</td>\n    </tr>\n    <tr>\n      <th>yr_built</th>\n      <td>0.199549</td>\n      <td>0.021380</td>\n      <td>0.054012</td>\n      <td>0.155792</td>\n      <td>0.507013</td>\n      <td>0.318049</td>\n      <td>0.053080</td>\n      <td>0.489319</td>\n      <td>-0.026161</td>\n      <td>-0.053440</td>\n      <td>...</td>\n      <td>0.446963</td>\n      <td>0.423898</td>\n      <td>-0.133124</td>\n      <td>1.000000</td>\n      <td>-0.224874</td>\n      <td>-0.346869</td>\n      <td>-0.148122</td>\n      <td>0.409356</td>\n      <td>0.326229</td>\n      <td>0.070958</td>\n    </tr>\n    <tr>\n      <th>yr_renovated</th>\n      <td>-0.025601</td>\n      <td>-0.016907</td>\n      <td>0.126434</td>\n      <td>0.018456</td>\n      <td>0.050561</td>\n      <td>0.055363</td>\n      <td>0.007644</td>\n      <td>0.006338</td>\n      <td>0.092885</td>\n      <td>0.103917</td>\n      <td>...</td>\n      <td>0.014414</td>\n      <td>0.023285</td>\n      <td>0.071323</td>\n      <td>-0.224874</td>\n      <td>1.000000</td>\n      <td>0.064357</td>\n      <td>0.029398</td>\n      <td>-0.068372</td>\n      <td>-0.002673</td>\n      <td>0.007854</td>\n    </tr>\n    <tr>\n      <th>zipcode</th>\n      <td>-0.002199</td>\n      <td>-0.008224</td>\n      <td>-0.053203</td>\n      <td>-0.153764</td>\n      <td>-0.204852</td>\n      <td>-0.199430</td>\n      <td>-0.129574</td>\n      <td>-0.059121</td>\n      <td>0.030285</td>\n      <td>0.084827</td>\n      <td>...</td>\n      <td>-0.184862</td>\n      <td>-0.261190</td>\n      <td>0.074845</td>\n      <td>-0.346869</td>\n      <td>0.064357</td>\n      <td>1.000000</td>\n      <td>0.267048</td>\n      <td>-0.564072</td>\n      <td>-0.279033</td>\n      <td>-0.147221</td>\n    </tr>\n    <tr>\n      <th>lat</th>\n      <td>0.000701</td>\n      <td>-0.001891</td>\n      <td>0.307003</td>\n      <td>-0.009739</td>\n      <td>0.024253</td>\n      <td>0.052529</td>\n      <td>-0.085683</td>\n      <td>0.049614</td>\n      <td>-0.014274</td>\n      <td>0.006157</td>\n      <td>...</td>\n      <td>0.114084</td>\n      <td>-0.000816</td>\n      <td>0.110538</td>\n      <td>-0.148122</td>\n      <td>0.029398</td>\n      <td>0.267048</td>\n      <td>1.000000</td>\n      <td>-0.135512</td>\n      <td>0.048858</td>\n      <td>-0.086419</td>\n    </tr>\n    <tr>\n      <th>long</th>\n      <td>0.008649</td>\n      <td>0.020799</td>\n      <td>0.021626</td>\n      <td>0.131066</td>\n      <td>0.225103</td>\n      <td>0.240223</td>\n      <td>0.229521</td>\n      <td>0.125419</td>\n      <td>-0.041910</td>\n      <td>-0.078400</td>\n      <td>...</td>\n      <td>0.198372</td>\n      <td>0.343803</td>\n      <td>-0.144765</td>\n      <td>0.409356</td>\n      <td>-0.068372</td>\n      <td>-0.564072</td>\n      <td>-0.135512</td>\n      <td>1.000000</td>\n      <td>0.334605</td>\n      <td>0.254451</td>\n    </tr>\n    <tr>\n      <th>sqft_living15</th>\n      <td>0.026647</td>\n      <td>-0.002901</td>\n      <td>0.585379</td>\n      <td>0.393560</td>\n      <td>0.569787</td>\n      <td>0.756420</td>\n      <td>0.144608</td>\n      <td>0.279885</td>\n      <td>0.086463</td>\n      <td>0.280439</td>\n      <td>...</td>\n      <td>0.713202</td>\n      <td>0.731870</td>\n      <td>0.200355</td>\n      <td>0.326229</td>\n      <td>-0.002673</td>\n      <td>-0.279033</td>\n      <td>0.048858</td>\n      <td>0.334605</td>\n      <td>1.000000</td>\n      <td>0.183192</td>\n    </tr>\n    <tr>\n      <th>sqft_lot15</th>\n      <td>-0.029827</td>\n      <td>-0.138798</td>\n      <td>0.082447</td>\n      <td>0.030473</td>\n      <td>0.087544</td>\n      <td>0.183286</td>\n      <td>0.718557</td>\n      <td>-0.011269</td>\n      <td>0.030703</td>\n      <td>0.072575</td>\n      <td>...</td>\n      <td>0.119248</td>\n      <td>0.194050</td>\n      <td>0.017276</td>\n      <td>0.070958</td>\n      <td>0.007854</td>\n      <td>-0.147221</td>\n      <td>-0.086419</td>\n      <td>0.254451</td>\n      <td>0.183192</td>\n      <td>1.000000</td>\n    </tr>\n  </tbody>\n</table>\n<p>21 rows \u00d7 21 columns</p>\n</div>",
                        "text/plain": "               Unnamed: 0        id     price  bedrooms  bathrooms  \\\nUnnamed: 0       1.000000  0.006718  0.027372  0.010308   0.107013   \nid               0.006718  1.000000 -0.016762  0.001332   0.005234   \nprice            0.027372 -0.016762  1.000000  0.308890   0.525885   \nbedrooms         0.010308  0.001332  0.308890  1.000000   0.514508   \nbathrooms        0.107013  0.005234  0.525885  0.514508   1.000000   \nsqft_living      0.044717 -0.012258  0.702035  0.578405   0.755789   \nsqft_lot        -0.026877 -0.132109  0.089661  0.032325   0.087932   \nfloors           0.179138  0.018525  0.256794  0.178178   0.502462   \nwaterfront      -0.007611 -0.002721  0.266369 -0.006800   0.063744   \nview            -0.013751  0.011592  0.397293  0.080079   0.188390   \ncondition       -0.095419 -0.023783  0.036362  0.026704  -0.126263   \ngrade            0.082050  0.008130  0.667434  0.357145   0.665887   \nsqft_above       0.071958 -0.010842  0.605567  0.479593   0.686735   \nsqft_basement   -0.041841 -0.005151  0.323816  0.302896   0.283456   \nyr_built         0.199549  0.021380  0.054012  0.155792   0.507013   \nyr_renovated    -0.025601 -0.016907  0.126434  0.018456   0.050561   \nzipcode         -0.002199 -0.008224 -0.053203 -0.153764  -0.204852   \nlat              0.000701 -0.001891  0.307003 -0.009739   0.024253   \nlong             0.008649  0.020799  0.021626  0.131066   0.225103   \nsqft_living15    0.026647 -0.002901  0.585379  0.393560   0.569787   \nsqft_lot15      -0.029827 -0.138798  0.082447  0.030473   0.087544   \n\n               sqft_living  sqft_lot    floors  waterfront      view  ...  \\\nUnnamed: 0        0.044717 -0.026877  0.179138   -0.007611 -0.013751  ...   \nid               -0.012258 -0.132109  0.018525   -0.002721  0.011592  ...   \nprice             0.702035  0.089661  0.256794    0.266369  0.397293  ...   \nbedrooms          0.578405  0.032325  0.178178   -0.006800  0.080079  ...   \nbathrooms         0.755789  0.087932  0.502462    0.063744  0.188390  ...   \nsqft_living       1.000000  0.172826  0.353949    0.103818  0.284611  ...   \nsqft_lot          0.172826  1.000000 -0.005201    0.021604  0.074710  ...   \nfloors            0.353949 -0.005201  1.000000    0.023698  0.029444  ...   \nwaterfront        0.103818  0.021604  0.023698    1.000000  0.401857  ...   \nview              0.284611  0.074710  0.029444    0.401857  1.000000  ...   \ncondition        -0.058753 -0.008958 -0.263768    0.016653  0.045990  ...   \ngrade             0.762704  0.113621  0.458183    0.082775  0.251321  ...   \nsqft_above        0.876597  0.183512  0.523885    0.072075  0.167649  ...   \nsqft_basement     0.435043  0.015286 -0.245705    0.080588  0.276947  ...   \nyr_built          0.318049  0.053080  0.489319   -0.026161 -0.053440  ...   \nyr_renovated      0.055363  0.007644  0.006338    0.092885  0.103917  ...   \nzipcode          -0.199430 -0.129574 -0.059121    0.030285  0.084827  ...   \nlat               0.052529 -0.085683  0.049614   -0.014274  0.006157  ...   \nlong              0.240223  0.229521  0.125419   -0.041910 -0.078400  ...   \nsqft_living15     0.756420  0.144608  0.279885    0.086463  0.280439  ...   \nsqft_lot15        0.183286  0.718557 -0.011269    0.030703  0.072575  ...   \n\n                  grade  sqft_above  sqft_basement  yr_built  yr_renovated  \\\nUnnamed: 0     0.082050    0.071958      -0.041841  0.199549     -0.025601   \nid             0.008130   -0.010842      -0.005151  0.021380     -0.016907   \nprice          0.667434    0.605567       0.323816  0.054012      0.126434   \nbedrooms       0.357145    0.479593       0.302896  0.155792      0.018456   \nbathrooms      0.665887    0.686735       0.283456  0.507013      0.050561   \nsqft_living    0.762704    0.876597       0.435043  0.318049      0.055363   \nsqft_lot       0.113621    0.183512       0.015286  0.053080      0.007644   \nfloors         0.458183    0.523885      -0.245705  0.489319      0.006338   \nwaterfront     0.082775    0.072075       0.080588 -0.026161      0.092885   \nview           0.251321    0.167649       0.276947 -0.053440      0.103917   \ncondition     -0.144674   -0.158214       0.174105 -0.361417     -0.060618   \ngrade          1.000000    0.755923       0.168392  0.446963      0.014414   \nsqft_above     0.755923    1.000000      -0.051943  0.423898      0.023285   \nsqft_basement  0.168392   -0.051943       1.000000 -0.133124      0.071323   \nyr_built       0.446963    0.423898      -0.133124  1.000000     -0.224874   \nyr_renovated   0.014414    0.023285       0.071323 -0.224874      1.000000   \nzipcode       -0.184862   -0.261190       0.074845 -0.346869      0.064357   \nlat            0.114084   -0.000816       0.110538 -0.148122      0.029398   \nlong           0.198372    0.343803      -0.144765  0.409356     -0.068372   \nsqft_living15  0.713202    0.731870       0.200355  0.326229     -0.002673   \nsqft_lot15     0.119248    0.194050       0.017276  0.070958      0.007854   \n\n                zipcode       lat      long  sqft_living15  sqft_lot15  \nUnnamed: 0    -0.002199  0.000701  0.008649       0.026647   -0.029827  \nid            -0.008224 -0.001891  0.020799      -0.002901   -0.138798  \nprice         -0.053203  0.307003  0.021626       0.585379    0.082447  \nbedrooms      -0.153764 -0.009739  0.131066       0.393560    0.030473  \nbathrooms     -0.204852  0.024253  0.225103       0.569787    0.087544  \nsqft_living   -0.199430  0.052529  0.240223       0.756420    0.183286  \nsqft_lot      -0.129574 -0.085683  0.229521       0.144608    0.718557  \nfloors        -0.059121  0.049614  0.125419       0.279885   -0.011269  \nwaterfront     0.030285 -0.014274 -0.041910       0.086463    0.030703  \nview           0.084827  0.006157 -0.078400       0.280439    0.072575  \ncondition      0.003026 -0.014941 -0.106500      -0.092824   -0.003406  \ngrade         -0.184862  0.114084  0.198372       0.713202    0.119248  \nsqft_above    -0.261190 -0.000816  0.343803       0.731870    0.194050  \nsqft_basement  0.074845  0.110538 -0.144765       0.200355    0.017276  \nyr_built      -0.346869 -0.148122  0.409356       0.326229    0.070958  \nyr_renovated   0.064357  0.029398 -0.068372      -0.002673    0.007854  \nzipcode        1.000000  0.267048 -0.564072      -0.279033   -0.147221  \nlat            0.267048  1.000000 -0.135512       0.048858   -0.086419  \nlong          -0.564072 -0.135512  1.000000       0.334605    0.254451  \nsqft_living15 -0.279033  0.048858  0.334605       1.000000    0.183192  \nsqft_lot15    -0.147221 -0.086419  0.254451       0.183192    1.000000  \n\n[21 rows x 21 columns]"
                    },
                    "execution_count": 5,
                    "metadata": {},
                    "output_type": "execute_result"
                }
            ],
            "source": "df.corr()"
        },
        {
            "cell_type": "markdown",
            "metadata": {},
            "source": "### Question 1 \nDisplay the data types of each column using the attribute dtype, then take a screenshot and submit it, include your code in the image. "
        },
        {
            "cell_type": "code",
            "execution_count": 6,
            "metadata": {
                "jupyter": {
                    "outputs_hidden": false
                }
            },
            "outputs": [
                {
                    "data": {
                        "text/plain": "Unnamed: 0         int64\nid                 int64\ndate              object\nprice            float64\nbedrooms         float64\nbathrooms        float64\nsqft_living        int64\nsqft_lot           int64\nfloors           float64\nwaterfront         int64\nview               int64\ncondition          int64\ngrade              int64\nsqft_above         int64\nsqft_basement      int64\nyr_built           int64\nyr_renovated       int64\nzipcode            int64\nlat              float64\nlong             float64\nsqft_living15      int64\nsqft_lot15         int64\ndtype: object"
                    },
                    "execution_count": 6,
                    "metadata": {},
                    "output_type": "execute_result"
                }
            ],
            "source": "df.dtypes"
        },
        {
            "cell_type": "markdown",
            "metadata": {},
            "source": "We use the method describe to obtain a statistical summary of the dataframe."
        },
        {
            "cell_type": "code",
            "execution_count": 16,
            "metadata": {
                "jupyter": {
                    "outputs_hidden": false
                }
            },
            "outputs": [
                {
                    "data": {
                        "text/html": "<div>\n<style scoped>\n    .dataframe tbody tr th:only-of-type {\n        vertical-align: middle;\n    }\n\n    .dataframe tbody tr th {\n        vertical-align: top;\n    }\n\n    .dataframe thead th {\n        text-align: right;\n    }\n</style>\n<table border=\"1\" class=\"dataframe\">\n  <thead>\n    <tr style=\"text-align: right;\">\n      <th></th>\n      <th>Unnamed: 0</th>\n      <th>id</th>\n      <th>price</th>\n      <th>bedrooms</th>\n      <th>bathrooms</th>\n      <th>sqft_living</th>\n      <th>sqft_lot</th>\n      <th>floors</th>\n      <th>waterfront</th>\n      <th>view</th>\n      <th>...</th>\n      <th>grade</th>\n      <th>sqft_above</th>\n      <th>sqft_basement</th>\n      <th>yr_built</th>\n      <th>yr_renovated</th>\n      <th>zipcode</th>\n      <th>lat</th>\n      <th>long</th>\n      <th>sqft_living15</th>\n      <th>sqft_lot15</th>\n    </tr>\n  </thead>\n  <tbody>\n    <tr>\n      <th>count</th>\n      <td>21613.00000</td>\n      <td>2.161300e+04</td>\n      <td>2.161300e+04</td>\n      <td>21600.000000</td>\n      <td>21603.000000</td>\n      <td>21613.000000</td>\n      <td>2.161300e+04</td>\n      <td>21613.000000</td>\n      <td>21613.000000</td>\n      <td>21613.000000</td>\n      <td>...</td>\n      <td>21613.000000</td>\n      <td>21613.000000</td>\n      <td>21613.000000</td>\n      <td>21613.000000</td>\n      <td>21613.000000</td>\n      <td>21613.000000</td>\n      <td>21613.000000</td>\n      <td>21613.000000</td>\n      <td>21613.000000</td>\n      <td>21613.000000</td>\n    </tr>\n    <tr>\n      <th>mean</th>\n      <td>10806.00000</td>\n      <td>4.580302e+09</td>\n      <td>5.400881e+05</td>\n      <td>3.372870</td>\n      <td>2.115736</td>\n      <td>2079.899736</td>\n      <td>1.510697e+04</td>\n      <td>1.494309</td>\n      <td>0.007542</td>\n      <td>0.234303</td>\n      <td>...</td>\n      <td>7.656873</td>\n      <td>1788.390691</td>\n      <td>291.509045</td>\n      <td>1971.005136</td>\n      <td>84.402258</td>\n      <td>98077.939805</td>\n      <td>47.560053</td>\n      <td>-122.213896</td>\n      <td>1986.552492</td>\n      <td>12768.455652</td>\n    </tr>\n    <tr>\n      <th>std</th>\n      <td>6239.28002</td>\n      <td>2.876566e+09</td>\n      <td>3.671272e+05</td>\n      <td>0.926657</td>\n      <td>0.768996</td>\n      <td>918.440897</td>\n      <td>4.142051e+04</td>\n      <td>0.539989</td>\n      <td>0.086517</td>\n      <td>0.766318</td>\n      <td>...</td>\n      <td>1.175459</td>\n      <td>828.090978</td>\n      <td>442.575043</td>\n      <td>29.373411</td>\n      <td>401.679240</td>\n      <td>53.505026</td>\n      <td>0.138564</td>\n      <td>0.140828</td>\n      <td>685.391304</td>\n      <td>27304.179631</td>\n    </tr>\n    <tr>\n      <th>min</th>\n      <td>0.00000</td>\n      <td>1.000102e+06</td>\n      <td>7.500000e+04</td>\n      <td>1.000000</td>\n      <td>0.500000</td>\n      <td>290.000000</td>\n      <td>5.200000e+02</td>\n      <td>1.000000</td>\n      <td>0.000000</td>\n      <td>0.000000</td>\n      <td>...</td>\n      <td>1.000000</td>\n      <td>290.000000</td>\n      <td>0.000000</td>\n      <td>1900.000000</td>\n      <td>0.000000</td>\n      <td>98001.000000</td>\n      <td>47.155900</td>\n      <td>-122.519000</td>\n      <td>399.000000</td>\n      <td>651.000000</td>\n    </tr>\n    <tr>\n      <th>25%</th>\n      <td>5403.00000</td>\n      <td>2.123049e+09</td>\n      <td>3.219500e+05</td>\n      <td>3.000000</td>\n      <td>1.750000</td>\n      <td>1427.000000</td>\n      <td>5.040000e+03</td>\n      <td>1.000000</td>\n      <td>0.000000</td>\n      <td>0.000000</td>\n      <td>...</td>\n      <td>7.000000</td>\n      <td>1190.000000</td>\n      <td>0.000000</td>\n      <td>1951.000000</td>\n      <td>0.000000</td>\n      <td>98033.000000</td>\n      <td>47.471000</td>\n      <td>-122.328000</td>\n      <td>1490.000000</td>\n      <td>5100.000000</td>\n    </tr>\n    <tr>\n      <th>50%</th>\n      <td>10806.00000</td>\n      <td>3.904930e+09</td>\n      <td>4.500000e+05</td>\n      <td>3.000000</td>\n      <td>2.250000</td>\n      <td>1910.000000</td>\n      <td>7.618000e+03</td>\n      <td>1.500000</td>\n      <td>0.000000</td>\n      <td>0.000000</td>\n      <td>...</td>\n      <td>7.000000</td>\n      <td>1560.000000</td>\n      <td>0.000000</td>\n      <td>1975.000000</td>\n      <td>0.000000</td>\n      <td>98065.000000</td>\n      <td>47.571800</td>\n      <td>-122.230000</td>\n      <td>1840.000000</td>\n      <td>7620.000000</td>\n    </tr>\n    <tr>\n      <th>75%</th>\n      <td>16209.00000</td>\n      <td>7.308900e+09</td>\n      <td>6.450000e+05</td>\n      <td>4.000000</td>\n      <td>2.500000</td>\n      <td>2550.000000</td>\n      <td>1.068800e+04</td>\n      <td>2.000000</td>\n      <td>0.000000</td>\n      <td>0.000000</td>\n      <td>...</td>\n      <td>8.000000</td>\n      <td>2210.000000</td>\n      <td>560.000000</td>\n      <td>1997.000000</td>\n      <td>0.000000</td>\n      <td>98118.000000</td>\n      <td>47.678000</td>\n      <td>-122.125000</td>\n      <td>2360.000000</td>\n      <td>10083.000000</td>\n    </tr>\n    <tr>\n      <th>max</th>\n      <td>21612.00000</td>\n      <td>9.900000e+09</td>\n      <td>7.700000e+06</td>\n      <td>33.000000</td>\n      <td>8.000000</td>\n      <td>13540.000000</td>\n      <td>1.651359e+06</td>\n      <td>3.500000</td>\n      <td>1.000000</td>\n      <td>4.000000</td>\n      <td>...</td>\n      <td>13.000000</td>\n      <td>9410.000000</td>\n      <td>4820.000000</td>\n      <td>2015.000000</td>\n      <td>2015.000000</td>\n      <td>98199.000000</td>\n      <td>47.777600</td>\n      <td>-121.315000</td>\n      <td>6210.000000</td>\n      <td>871200.000000</td>\n    </tr>\n  </tbody>\n</table>\n<p>8 rows \u00d7 21 columns</p>\n</div>",
                        "text/plain": "        Unnamed: 0            id         price      bedrooms     bathrooms  \\\ncount  21613.00000  2.161300e+04  2.161300e+04  21600.000000  21603.000000   \nmean   10806.00000  4.580302e+09  5.400881e+05      3.372870      2.115736   \nstd     6239.28002  2.876566e+09  3.671272e+05      0.926657      0.768996   \nmin        0.00000  1.000102e+06  7.500000e+04      1.000000      0.500000   \n25%     5403.00000  2.123049e+09  3.219500e+05      3.000000      1.750000   \n50%    10806.00000  3.904930e+09  4.500000e+05      3.000000      2.250000   \n75%    16209.00000  7.308900e+09  6.450000e+05      4.000000      2.500000   \nmax    21612.00000  9.900000e+09  7.700000e+06     33.000000      8.000000   \n\n        sqft_living      sqft_lot        floors    waterfront          view  \\\ncount  21613.000000  2.161300e+04  21613.000000  21613.000000  21613.000000   \nmean    2079.899736  1.510697e+04      1.494309      0.007542      0.234303   \nstd      918.440897  4.142051e+04      0.539989      0.086517      0.766318   \nmin      290.000000  5.200000e+02      1.000000      0.000000      0.000000   \n25%     1427.000000  5.040000e+03      1.000000      0.000000      0.000000   \n50%     1910.000000  7.618000e+03      1.500000      0.000000      0.000000   \n75%     2550.000000  1.068800e+04      2.000000      0.000000      0.000000   \nmax    13540.000000  1.651359e+06      3.500000      1.000000      4.000000   \n\n       ...         grade    sqft_above  sqft_basement      yr_built  \\\ncount  ...  21613.000000  21613.000000   21613.000000  21613.000000   \nmean   ...      7.656873   1788.390691     291.509045   1971.005136   \nstd    ...      1.175459    828.090978     442.575043     29.373411   \nmin    ...      1.000000    290.000000       0.000000   1900.000000   \n25%    ...      7.000000   1190.000000       0.000000   1951.000000   \n50%    ...      7.000000   1560.000000       0.000000   1975.000000   \n75%    ...      8.000000   2210.000000     560.000000   1997.000000   \nmax    ...     13.000000   9410.000000    4820.000000   2015.000000   \n\n       yr_renovated       zipcode           lat          long  sqft_living15  \\\ncount  21613.000000  21613.000000  21613.000000  21613.000000   21613.000000   \nmean      84.402258  98077.939805     47.560053   -122.213896    1986.552492   \nstd      401.679240     53.505026      0.138564      0.140828     685.391304   \nmin        0.000000  98001.000000     47.155900   -122.519000     399.000000   \n25%        0.000000  98033.000000     47.471000   -122.328000    1490.000000   \n50%        0.000000  98065.000000     47.571800   -122.230000    1840.000000   \n75%        0.000000  98118.000000     47.678000   -122.125000    2360.000000   \nmax     2015.000000  98199.000000     47.777600   -121.315000    6210.000000   \n\n          sqft_lot15  \ncount   21613.000000  \nmean    12768.455652  \nstd     27304.179631  \nmin       651.000000  \n25%      5100.000000  \n50%      7620.000000  \n75%     10083.000000  \nmax    871200.000000  \n\n[8 rows x 21 columns]"
                    },
                    "execution_count": 16,
                    "metadata": {},
                    "output_type": "execute_result"
                }
            ],
            "source": "df.describe()"
        },
        {
            "cell_type": "markdown",
            "metadata": {},
            "source": "# Module 2: Data Wrangling"
        },
        {
            "cell_type": "markdown",
            "metadata": {},
            "source": "### Question 2 \nDrop the columns <code>\"id\"</code>  and <code>\"Unnamed: 0\"</code> from axis 1 using the method <code>drop()</code>, then use the method <code>describe()</code> to obtain a statistical summary of the data. Take a screenshot and submit it, make sure the <code>inplace</code> parameter is set to <code>True</code>"
        },
        {
            "cell_type": "code",
            "execution_count": 66,
            "metadata": {
                "jupyter": {
                    "outputs_hidden": false
                }
            },
            "outputs": [
                {
                    "data": {
                        "text/html": "<div>\n<style scoped>\n    .dataframe tbody tr th:only-of-type {\n        vertical-align: middle;\n    }\n\n    .dataframe tbody tr th {\n        vertical-align: top;\n    }\n\n    .dataframe thead th {\n        text-align: right;\n    }\n</style>\n<table border=\"1\" class=\"dataframe\">\n  <thead>\n    <tr style=\"text-align: right;\">\n      <th></th>\n      <th>price</th>\n      <th>bedrooms</th>\n      <th>bathrooms</th>\n      <th>sqft_living</th>\n      <th>sqft_lot</th>\n      <th>floors</th>\n      <th>waterfront</th>\n      <th>view</th>\n      <th>condition</th>\n      <th>grade</th>\n      <th>sqft_above</th>\n      <th>sqft_basement</th>\n      <th>yr_built</th>\n      <th>yr_renovated</th>\n      <th>zipcode</th>\n      <th>lat</th>\n      <th>long</th>\n      <th>sqft_living15</th>\n      <th>sqft_lot15</th>\n    </tr>\n  </thead>\n  <tbody>\n    <tr>\n      <th>count</th>\n      <td>2.161300e+04</td>\n      <td>21600.000000</td>\n      <td>21603.000000</td>\n      <td>21613.000000</td>\n      <td>2.161300e+04</td>\n      <td>21613.000000</td>\n      <td>21613.000000</td>\n      <td>21613.000000</td>\n      <td>21613.000000</td>\n      <td>21613.000000</td>\n      <td>21613.000000</td>\n      <td>21613.000000</td>\n      <td>21613.000000</td>\n      <td>21613.000000</td>\n      <td>21613.000000</td>\n      <td>21613.000000</td>\n      <td>21613.000000</td>\n      <td>21613.000000</td>\n      <td>21613.000000</td>\n    </tr>\n    <tr>\n      <th>mean</th>\n      <td>5.400881e+05</td>\n      <td>3.372870</td>\n      <td>2.115736</td>\n      <td>2079.899736</td>\n      <td>1.510697e+04</td>\n      <td>1.494309</td>\n      <td>0.007542</td>\n      <td>0.234303</td>\n      <td>3.409430</td>\n      <td>7.656873</td>\n      <td>1788.390691</td>\n      <td>291.509045</td>\n      <td>1971.005136</td>\n      <td>84.402258</td>\n      <td>98077.939805</td>\n      <td>47.560053</td>\n      <td>-122.213896</td>\n      <td>1986.552492</td>\n      <td>12768.455652</td>\n    </tr>\n    <tr>\n      <th>std</th>\n      <td>3.671272e+05</td>\n      <td>0.926657</td>\n      <td>0.768996</td>\n      <td>918.440897</td>\n      <td>4.142051e+04</td>\n      <td>0.539989</td>\n      <td>0.086517</td>\n      <td>0.766318</td>\n      <td>0.650743</td>\n      <td>1.175459</td>\n      <td>828.090978</td>\n      <td>442.575043</td>\n      <td>29.373411</td>\n      <td>401.679240</td>\n      <td>53.505026</td>\n      <td>0.138564</td>\n      <td>0.140828</td>\n      <td>685.391304</td>\n      <td>27304.179631</td>\n    </tr>\n    <tr>\n      <th>min</th>\n      <td>7.500000e+04</td>\n      <td>1.000000</td>\n      <td>0.500000</td>\n      <td>290.000000</td>\n      <td>5.200000e+02</td>\n      <td>1.000000</td>\n      <td>0.000000</td>\n      <td>0.000000</td>\n      <td>1.000000</td>\n      <td>1.000000</td>\n      <td>290.000000</td>\n      <td>0.000000</td>\n      <td>1900.000000</td>\n      <td>0.000000</td>\n      <td>98001.000000</td>\n      <td>47.155900</td>\n      <td>-122.519000</td>\n      <td>399.000000</td>\n      <td>651.000000</td>\n    </tr>\n    <tr>\n      <th>25%</th>\n      <td>3.219500e+05</td>\n      <td>3.000000</td>\n      <td>1.750000</td>\n      <td>1427.000000</td>\n      <td>5.040000e+03</td>\n      <td>1.000000</td>\n      <td>0.000000</td>\n      <td>0.000000</td>\n      <td>3.000000</td>\n      <td>7.000000</td>\n      <td>1190.000000</td>\n      <td>0.000000</td>\n      <td>1951.000000</td>\n      <td>0.000000</td>\n      <td>98033.000000</td>\n      <td>47.471000</td>\n      <td>-122.328000</td>\n      <td>1490.000000</td>\n      <td>5100.000000</td>\n    </tr>\n    <tr>\n      <th>50%</th>\n      <td>4.500000e+05</td>\n      <td>3.000000</td>\n      <td>2.250000</td>\n      <td>1910.000000</td>\n      <td>7.618000e+03</td>\n      <td>1.500000</td>\n      <td>0.000000</td>\n      <td>0.000000</td>\n      <td>3.000000</td>\n      <td>7.000000</td>\n      <td>1560.000000</td>\n      <td>0.000000</td>\n      <td>1975.000000</td>\n      <td>0.000000</td>\n      <td>98065.000000</td>\n      <td>47.571800</td>\n      <td>-122.230000</td>\n      <td>1840.000000</td>\n      <td>7620.000000</td>\n    </tr>\n    <tr>\n      <th>75%</th>\n      <td>6.450000e+05</td>\n      <td>4.000000</td>\n      <td>2.500000</td>\n      <td>2550.000000</td>\n      <td>1.068800e+04</td>\n      <td>2.000000</td>\n      <td>0.000000</td>\n      <td>0.000000</td>\n      <td>4.000000</td>\n      <td>8.000000</td>\n      <td>2210.000000</td>\n      <td>560.000000</td>\n      <td>1997.000000</td>\n      <td>0.000000</td>\n      <td>98118.000000</td>\n      <td>47.678000</td>\n      <td>-122.125000</td>\n      <td>2360.000000</td>\n      <td>10083.000000</td>\n    </tr>\n    <tr>\n      <th>max</th>\n      <td>7.700000e+06</td>\n      <td>33.000000</td>\n      <td>8.000000</td>\n      <td>13540.000000</td>\n      <td>1.651359e+06</td>\n      <td>3.500000</td>\n      <td>1.000000</td>\n      <td>4.000000</td>\n      <td>5.000000</td>\n      <td>13.000000</td>\n      <td>9410.000000</td>\n      <td>4820.000000</td>\n      <td>2015.000000</td>\n      <td>2015.000000</td>\n      <td>98199.000000</td>\n      <td>47.777600</td>\n      <td>-121.315000</td>\n      <td>6210.000000</td>\n      <td>871200.000000</td>\n    </tr>\n  </tbody>\n</table>\n</div>",
                        "text/plain": "              price      bedrooms     bathrooms   sqft_living      sqft_lot  \\\ncount  2.161300e+04  21600.000000  21603.000000  21613.000000  2.161300e+04   \nmean   5.400881e+05      3.372870      2.115736   2079.899736  1.510697e+04   \nstd    3.671272e+05      0.926657      0.768996    918.440897  4.142051e+04   \nmin    7.500000e+04      1.000000      0.500000    290.000000  5.200000e+02   \n25%    3.219500e+05      3.000000      1.750000   1427.000000  5.040000e+03   \n50%    4.500000e+05      3.000000      2.250000   1910.000000  7.618000e+03   \n75%    6.450000e+05      4.000000      2.500000   2550.000000  1.068800e+04   \nmax    7.700000e+06     33.000000      8.000000  13540.000000  1.651359e+06   \n\n             floors    waterfront          view     condition         grade  \\\ncount  21613.000000  21613.000000  21613.000000  21613.000000  21613.000000   \nmean       1.494309      0.007542      0.234303      3.409430      7.656873   \nstd        0.539989      0.086517      0.766318      0.650743      1.175459   \nmin        1.000000      0.000000      0.000000      1.000000      1.000000   \n25%        1.000000      0.000000      0.000000      3.000000      7.000000   \n50%        1.500000      0.000000      0.000000      3.000000      7.000000   \n75%        2.000000      0.000000      0.000000      4.000000      8.000000   \nmax        3.500000      1.000000      4.000000      5.000000     13.000000   \n\n         sqft_above  sqft_basement      yr_built  yr_renovated       zipcode  \\\ncount  21613.000000   21613.000000  21613.000000  21613.000000  21613.000000   \nmean    1788.390691     291.509045   1971.005136     84.402258  98077.939805   \nstd      828.090978     442.575043     29.373411    401.679240     53.505026   \nmin      290.000000       0.000000   1900.000000      0.000000  98001.000000   \n25%     1190.000000       0.000000   1951.000000      0.000000  98033.000000   \n50%     1560.000000       0.000000   1975.000000      0.000000  98065.000000   \n75%     2210.000000     560.000000   1997.000000      0.000000  98118.000000   \nmax     9410.000000    4820.000000   2015.000000   2015.000000  98199.000000   \n\n                lat          long  sqft_living15     sqft_lot15  \ncount  21613.000000  21613.000000   21613.000000   21613.000000  \nmean      47.560053   -122.213896    1986.552492   12768.455652  \nstd        0.138564      0.140828     685.391304   27304.179631  \nmin       47.155900   -122.519000     399.000000     651.000000  \n25%       47.471000   -122.328000    1490.000000    5100.000000  \n50%       47.571800   -122.230000    1840.000000    7620.000000  \n75%       47.678000   -122.125000    2360.000000   10083.000000  \nmax       47.777600   -121.315000    6210.000000  871200.000000  "
                    },
                    "execution_count": 66,
                    "metadata": {},
                    "output_type": "execute_result"
                }
            ],
            "source": "df.drop(['id','Unnamed: 0'],axis=1, inplace = True)\ndf.describe()"
        },
        {
            "cell_type": "markdown",
            "metadata": {},
            "source": "We can see we have missing values for the columns <code> bedrooms</code>  and <code> bathrooms </code>"
        },
        {
            "cell_type": "code",
            "execution_count": 67,
            "metadata": {
                "jupyter": {
                    "outputs_hidden": false
                }
            },
            "outputs": [
                {
                    "name": "stdout",
                    "output_type": "stream",
                    "text": "number of NaN values for the column bedrooms : 13\nnumber of NaN values for the column bathrooms : 10\n"
                }
            ],
            "source": "print(\"number of NaN values for the column bedrooms :\", df['bedrooms'].isnull().sum())\nprint(\"number of NaN values for the column bathrooms :\", df['bathrooms'].isnull().sum())\n"
        },
        {
            "cell_type": "markdown",
            "metadata": {},
            "source": "\nWe can replace the missing values of the column <code>'bedrooms'</code> with the mean of the column  <code>'bedrooms' </code> using the method <code>replace()</code>. Don't forget to set the <code>inplace</code> parameter to <code>True</code>"
        },
        {
            "cell_type": "code",
            "execution_count": 68,
            "metadata": {},
            "outputs": [],
            "source": "mean=df['bedrooms'].mean()\ndf['bedrooms'].replace(np.nan,mean, inplace=True)"
        },
        {
            "cell_type": "markdown",
            "metadata": {},
            "source": "\nWe also replace the missing values of the column <code>'bathrooms'</code> with the mean of the column  <code>'bathrooms' </code> using the method <code>replace()</code>. Don't forget to set the <code> inplace </code>  parameter top <code> True </code>"
        },
        {
            "cell_type": "code",
            "execution_count": 69,
            "metadata": {},
            "outputs": [],
            "source": "mean=df['bathrooms'].mean()\ndf['bathrooms'].replace(np.nan,mean, inplace=True)"
        },
        {
            "cell_type": "code",
            "execution_count": 70,
            "metadata": {
                "jupyter": {
                    "outputs_hidden": false
                }
            },
            "outputs": [
                {
                    "name": "stdout",
                    "output_type": "stream",
                    "text": "number of NaN values for the column bedrooms : 0\nnumber of NaN values for the column bathrooms : 0\n"
                }
            ],
            "source": "print(\"number of NaN values for the column bedrooms :\", df['bedrooms'].isnull().sum())\nprint(\"number of NaN values for the column bathrooms :\", df['bathrooms'].isnull().sum())"
        },
        {
            "cell_type": "markdown",
            "metadata": {},
            "source": "# Module 3: Exploratory Data Analysis"
        },
        {
            "cell_type": "markdown",
            "metadata": {},
            "source": "### Question 3\nUse the method <code>value_counts</code> to count the number of houses with unique floor values, use the method <code>.to_frame()</code> to convert it to a dataframe.\n"
        },
        {
            "cell_type": "code",
            "execution_count": 71,
            "metadata": {
                "jupyter": {
                    "outputs_hidden": false
                }
            },
            "outputs": [
                {
                    "data": {
                        "text/html": "<div>\n<style scoped>\n    .dataframe tbody tr th:only-of-type {\n        vertical-align: middle;\n    }\n\n    .dataframe tbody tr th {\n        vertical-align: top;\n    }\n\n    .dataframe thead th {\n        text-align: right;\n    }\n</style>\n<table border=\"1\" class=\"dataframe\">\n  <thead>\n    <tr style=\"text-align: right;\">\n      <th></th>\n      <th>floors</th>\n    </tr>\n  </thead>\n  <tbody>\n    <tr>\n      <th>1.0</th>\n      <td>10680</td>\n    </tr>\n    <tr>\n      <th>2.0</th>\n      <td>8241</td>\n    </tr>\n    <tr>\n      <th>1.5</th>\n      <td>1910</td>\n    </tr>\n    <tr>\n      <th>3.0</th>\n      <td>613</td>\n    </tr>\n    <tr>\n      <th>2.5</th>\n      <td>161</td>\n    </tr>\n    <tr>\n      <th>3.5</th>\n      <td>8</td>\n    </tr>\n  </tbody>\n</table>\n</div>",
                        "text/plain": "     floors\n1.0   10680\n2.0    8241\n1.5    1910\n3.0     613\n2.5     161\n3.5       8"
                    },
                    "execution_count": 71,
                    "metadata": {},
                    "output_type": "execute_result"
                }
            ],
            "source": "unique_floor_values=df['floors'].value_counts()\nunique_floor_values.to_frame()"
        },
        {
            "cell_type": "markdown",
            "metadata": {},
            "source": "### Question 4\nUse the function <code>boxplot</code> in the seaborn library  to  determine whether houses with a waterfront view or without a waterfront view have more price outliers."
        },
        {
            "cell_type": "code",
            "execution_count": 72,
            "metadata": {
                "jupyter": {
                    "outputs_hidden": false
                }
            },
            "outputs": [
                {
                    "data": {
                        "text/plain": "<matplotlib.axes._subplots.AxesSubplot at 0x7f9a59b898d0>"
                    },
                    "execution_count": 72,
                    "metadata": {},
                    "output_type": "execute_result"
                },
                {
                    "data": {
                        "image/png": "[encoded data removed]",
                        "text/plain": "<Figure size 432x288 with 1 Axes>"
                    },
                    "metadata": {
                        "needs_background": "light"
                    },
                    "output_type": "display_data"
                }
            ],
            "source": "sns.boxplot(x='waterfront', y='price', data=df, hue='waterfront',)"
        },
        {
            "cell_type": "markdown",
            "metadata": {},
            "source": "### Question 5\nUse the function <code>regplot</code>  in the seaborn library  to  determine if the feature <code>sqft_above</code> is negatively or positively correlated with price."
        },
        {
            "cell_type": "code",
            "execution_count": 73,
            "metadata": {
                "jupyter": {
                    "outputs_hidden": false
                }
            },
            "outputs": [
                {
                    "name": "stdout",
                    "output_type": "stream",
                    "text": "            sqft_above     price\nsqft_above    1.000000  0.605567\nprice         0.605567  1.000000\n"
                },
                {
                    "data": {
                        "image/png": "[encoded data removed]",
                        "text/plain": "<Figure size 432x288 with 1 Axes>"
                    },
                    "metadata": {
                        "needs_background": "light"
                    },
                    "output_type": "display_data"
                }
            ],
            "source": "sns.regplot(x='sqft_above', y='price', data=df)\nprint(df[['sqft_above','price']].corr())"
        },
        {
            "cell_type": "markdown",
            "metadata": {},
            "source": "\nWe can use the Pandas method <code>corr()</code>  to find the feature other than price that is most correlated with price."
        },
        {
            "cell_type": "code",
            "execution_count": 74,
            "metadata": {
                "jupyter": {
                    "outputs_hidden": false
                }
            },
            "outputs": [
                {
                    "data": {
                        "text/plain": "zipcode         -0.053203\nlong             0.021626\ncondition        0.036362\nyr_built         0.054012\nsqft_lot15       0.082447\nsqft_lot         0.089661\nyr_renovated     0.126434\nfloors           0.256794\nwaterfront       0.266369\nlat              0.307003\nbedrooms         0.308797\nsqft_basement    0.323816\nview             0.397293\nbathrooms        0.525738\nsqft_living15    0.585379\nsqft_above       0.605567\ngrade            0.667434\nsqft_living      0.702035\nprice            1.000000\nName: price, dtype: float64"
                    },
                    "execution_count": 74,
                    "metadata": {},
                    "output_type": "execute_result"
                }
            ],
            "source": "df.corr()['price'].sort_values()"
        },
        {
            "cell_type": "markdown",
            "metadata": {},
            "source": "# Module 4: Model Development"
        },
        {
            "cell_type": "markdown",
            "metadata": {},
            "source": "\nWe can Fit a linear regression model using the  longitude feature <code>'long'</code> and  caculate the R^2."
        },
        {
            "cell_type": "code",
            "execution_count": 75,
            "metadata": {
                "jupyter": {
                    "outputs_hidden": false
                }
            },
            "outputs": [
                {
                    "data": {
                        "text/plain": "0.00046769430149007363"
                    },
                    "execution_count": 75,
                    "metadata": {},
                    "output_type": "execute_result"
                }
            ],
            "source": "X = df[['long']]\nY = df['price']\nlm = LinearRegression()\nlm.fit(X,Y),\nlm.score(X, Y)"
        },
        {
            "cell_type": "markdown",
            "metadata": {},
            "source": "### Question  6\nFit a linear regression model to predict the <code>'price'</code> using the feature <code>'sqft_living'</code> then calculate the R^2. Take a screenshot of your code and the value of the R^2."
        },
        {
            "cell_type": "code",
            "execution_count": 76,
            "metadata": {
                "jupyter": {
                    "outputs_hidden": false
                }
            },
            "outputs": [
                {
                    "data": {
                        "text/plain": "0.49285321790379316"
                    },
                    "execution_count": 76,
                    "metadata": {},
                    "output_type": "execute_result"
                }
            ],
            "source": "x6= df[['sqft_living']]\ny6= df['price']\nlm6= LinearRegression()\nlm6.fit(x6,y6)\nlm6.score(x6,y6)"
        },
        {
            "cell_type": "markdown",
            "metadata": {},
            "source": "### Question 7\nFit a linear regression model to predict the <code>'price'</code> using the list of features:"
        },
        {
            "cell_type": "code",
            "execution_count": 77,
            "metadata": {},
            "outputs": [],
            "source": "features =[\"floors\", \"waterfront\",\"lat\" ,\"bedrooms\" ,\"sqft_basement\" ,\"view\" ,\"bathrooms\",\"sqft_living15\",\"sqft_above\",\"grade\",\"sqft_living\"]"
        },
        {
            "cell_type": "markdown",
            "metadata": {},
            "source": "Then calculate the R^2. Take a screenshot of your code."
        },
        {
            "cell_type": "code",
            "execution_count": 78,
            "metadata": {
                "jupyter": {
                    "outputs_hidden": false
                }
            },
            "outputs": [
                {
                    "data": {
                        "text/plain": "0.657679183672129"
                    },
                    "execution_count": 78,
                    "metadata": {},
                    "output_type": "execute_result"
                }
            ],
            "source": "x7=df[features]\ny7= df['price']\nlm7= LinearRegression()\nlm7.fit(x7, y7)\nlm7.score(x7,y7)"
        },
        {
            "cell_type": "markdown",
            "metadata": {},
            "source": "### This will help with Question 8\n\nCreate a list of tuples, the first element in the tuple contains the name of the estimator:\n\n<code>'scale'</code>\n\n<code>'polynomial'</code>\n\n<code>'model'</code>\n\nThe second element in the tuple  contains the model constructor \n\n<code>StandardScaler()</code>\n\n<code>PolynomialFeatures(include_bias=False)</code>\n\n<code>LinearRegression()</code>\n"
        },
        {
            "cell_type": "code",
            "execution_count": 79,
            "metadata": {},
            "outputs": [],
            "source": "Input=[('scale',StandardScaler()),('polynomial', PolynomialFeatures(include_bias=False)),('model',LinearRegression())]"
        },
        {
            "cell_type": "markdown",
            "metadata": {},
            "source": "### Question 8\nUse the list to create a pipeline object to predict the 'price', fit the object using the features in the list <code>features</code>, and calculate the R^2."
        },
        {
            "cell_type": "code",
            "execution_count": 53,
            "metadata": {
                "jupyter": {
                    "outputs_hidden": false
                }
            },
            "outputs": [
                {
                    "name": "stdout",
                    "output_type": "stream",
                    "text": "The First 5 Predicted Values are: [349649.75 559166.25 449506.75 393246.75 521711.75]\nR^2 value using Pipeline Method is: 0.7513408553309376\n"
                },
                {
                    "name": "stderr",
                    "output_type": "stream",
                    "text": "/opt/conda/envs/Python36/lib/python3.6/site-packages/sklearn/preprocessing/data.py:645: DataConversionWarning: Data with input dtype int64, float64 were all converted to float64 by StandardScaler.\n  return self.partial_fit(X, y)\n/opt/conda/envs/Python36/lib/python3.6/site-packages/sklearn/base.py:467: DataConversionWarning: Data with input dtype int64, float64 were all converted to float64 by StandardScaler.\n  return self.fit(X, y, **fit_params).transform(X)\n/opt/conda/envs/Python36/lib/python3.6/site-packages/sklearn/pipeline.py:331: DataConversionWarning: Data with input dtype int64, float64 were all converted to float64 by StandardScaler.\n  Xt = transform.transform(Xt)\n/opt/conda/envs/Python36/lib/python3.6/site-packages/sklearn/pipeline.py:511: DataConversionWarning: Data with input dtype int64, float64 were all converted to float64 by StandardScaler.\n  Xt = transform.transform(Xt)\n"
                }
            ],
            "source": "pipe= Pipeline(Input)\npipe.fit(df[features],Y)\nypipe=pipe.predict(df[features])\nprint('The First 5 Predicted Values are:',ypipe[:5])\nprint('R^2 value using Pipeline Method is:',pipe.score(df[features],Y))"
        },
        {
            "cell_type": "markdown",
            "metadata": {},
            "source": "# Module 5: Model Evaluation and Refinement"
        },
        {
            "cell_type": "markdown",
            "metadata": {},
            "source": "Import the necessary modules:"
        },
        {
            "cell_type": "code",
            "execution_count": 80,
            "metadata": {
                "jupyter": {
                    "outputs_hidden": false
                }
            },
            "outputs": [
                {
                    "name": "stdout",
                    "output_type": "stream",
                    "text": "done\n"
                }
            ],
            "source": "from sklearn.model_selection import cross_val_score\nfrom sklearn.model_selection import train_test_split\nprint(\"done\")"
        },
        {
            "cell_type": "markdown",
            "metadata": {},
            "source": "We will split the data into training and testing sets:"
        },
        {
            "cell_type": "code",
            "execution_count": 81,
            "metadata": {
                "jupyter": {
                    "outputs_hidden": false
                }
            },
            "outputs": [
                {
                    "name": "stdout",
                    "output_type": "stream",
                    "text": "number of test samples: 3242\nnumber of training samples: 18371\n"
                }
            ],
            "source": "features =[\"floors\", \"waterfront\",\"lat\" ,\"bedrooms\" ,\"sqft_basement\" ,\"view\" ,\"bathrooms\",\"sqft_living15\",\"sqft_above\",\"grade\",\"sqft_living\"]    \nX = df[features]\nY = df['price']\n\nx_train, x_test, y_train, y_test = train_test_split(X, Y, test_size=0.15, random_state=1)\n\n\nprint(\"number of test samples:\", x_test.shape[0])\nprint(\"number of training samples:\",x_train.shape[0])"
        },
        {
            "cell_type": "markdown",
            "metadata": {},
            "source": "### Question 9\nCreate and fit a Ridge regression object using the training data, set the regularization parameter to 0.1, and calculate the R^2 using the test data. \n"
        },
        {
            "cell_type": "code",
            "execution_count": 82,
            "metadata": {},
            "outputs": [],
            "source": "from sklearn.linear_model import Ridge"
        },
        {
            "cell_type": "code",
            "execution_count": 83,
            "metadata": {
                "jupyter": {
                    "outputs_hidden": false
                }
            },
            "outputs": [
                {
                    "data": {
                        "text/plain": "0.6478759163939121"
                    },
                    "execution_count": 83,
                    "metadata": {},
                    "output_type": "execute_result"
                }
            ],
            "source": "R9=Ridge(alpha=0.1)\nR9.fit(x_train,y_train)\nR9.score(x_test,y_test)\n"
        },
        {
            "cell_type": "markdown",
            "metadata": {},
            "source": "### Question 10\nPerform a second order polynomial transform on both the training data and testing data. Create and fit a Ridge regression object using the training data, set the regularisation parameter to 0.1, and calculate the R^2 utilising the test data provided. Take a screenshot of your code and the R^2."
        },
        {
            "cell_type": "code",
            "execution_count": 84,
            "metadata": {
                "jupyter": {
                    "outputs_hidden": false
                }
            },
            "outputs": [
                {
                    "name": "stdout",
                    "output_type": "stream",
                    "text": "R^2 without using Ridge Method: 0.7117278492551975\nR^2 using Ridge Method: 0.7002744279699229\n"
                }
            ],
            "source": "lr10=LinearRegression()\npr=PolynomialFeatures(degree=2)\nr10=Ridge(alpha=0.1)\nx_train_pr=pr.fit_transform(x_train)\nx_test_pr=pr.fit_transform(x_test)\nlr10.fit(x_train_pr,y_train)\nprint('R^2 without using Ridge Method:',lr10.score(x_test_pr,y_test))\nr10.fit(x_train_pr,y_train)\nprint('R^2 using Ridge Method:', r10.score(x_test_pr,y_test))\n"
        },
        {
            "cell_type": "markdown",
            "metadata": {},
            "source": "<p>Once you complete your notebook you will have to share it. Select the icon on the top right a marked in red in the image below, a dialogue box should open, and select the option all&nbsp;content excluding sensitive code cells.</p>\n        <p><img width=\"600\" src=\"https://s3-api.us-geo.objectstorage.softlayer.net/cf-courses-data/CognitiveClass/DA0101EN/coursera/project/save_notebook.png\" alt=\"share notebook\"  style=\"display: block; margin-left: auto; margin-right: auto;\"/></p>\n        <p></p>\n        <p>You can then share the notebook&nbsp; via a&nbsp; URL by scrolling down as shown in the following image:</p>\n        <p style=\"text-align: center;\"><img width=\"600\"  src=\"https://s3-api.us-geo.objectstorage.softlayer.net/cf-courses-data/CognitiveClass/DA0101EN/coursera/project/url_notebook.png\" alt=\"HTML\" style=\"display: block; margin-left: auto; margin-right: auto;\" /></p>\n        <p>&nbsp;</p>"
        },
        {
            "cell_type": "markdown",
            "metadata": {},
            "source": "<h2>About the Authors:</h2> \n\n<a href=\"https://www.linkedin.com/in/joseph-s-50398b136/\">Joseph Santarcangelo</a> has a PhD in Electrical Engineering, his research focused on using machine learning, signal processing, and computer vision to determine how videos impact human cognition. Joseph has been working for IBM since he completed his PhD."
        },
        {
            "cell_type": "markdown",
            "metadata": {},
            "source": "Other contributors: <a href=\"https://www.linkedin.com/in/michelleccarey/\">Michelle Carey</a>, <a href=\"www.linkedin.com/in/jiahui-mavis-zhou-a4537814a\">Mavis Zhou</a> "
        },
        {
            "cell_type": "code",
            "execution_count": null,
            "metadata": {},
            "outputs": [],
            "source": ""
        }
    ],
    "metadata": {
        "kernelspec": {
            "display_name": "Python 3.6",
            "language": "python",
            "name": "python3"
        },
        "language_info": {
            "codemirror_mode": {
                "name": "ipython",
                "version": 3
            },
            "file_extension": ".py",
            "mimetype": "text/x-python",
            "name": "python",
            "nbconvert_exporter": "python",
            "pygments_lexer": "ipython3",
            "version": "3.6.9"
        },
        "widgets": {
            "state": {},
            "version": "1.1.2"
        }
    },
    "nbformat": 4,
    "nbformat_minor": 4
}